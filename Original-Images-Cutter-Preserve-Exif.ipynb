{
 "cells": [
  {
   "cell_type": "markdown",
   "metadata": {},
   "source": [
    "# General notes\n",
    "Photogrammetry softwares require information about camera model, focal lenght, sensor width, exposure time, F-number, ISO, lens focal lenght, etc. for all of the images included in the construction of 3D model. For this reason, it is important to preserve image [exif](https://en.wikipedia.org/wiki/Exif) data when the images are cropped. Since OpenCV library does not preserve image this data, PIL library is used.  <br>\n",
    "The information about distortion model can change from 'radial3' to 'pinhole' when cropping (unknown reason). All the other metadata information stays the same. Note that the information about image size stays the same in exif metadata even after cropping. Some photogrammetry softwares may give warning about images' size not matching the ones in the exif metadata, but it WILL NOT SKEW the results."
   ]
  },
  {
   "cell_type": "markdown",
   "metadata": {},
   "source": [
    "# Import resources"
   ]
  },
  {
   "cell_type": "code",
   "execution_count": 1,
   "metadata": {},
   "outputs": [],
   "source": [
    "from PIL import Image\n",
    "import os\n",
    "import glob\n",
    "from tqdm import tqdm"
   ]
  },
  {
   "cell_type": "markdown",
   "metadata": {},
   "source": [
    "# Crop the images\n",
    "Create a folder and place the original images there. Images for each piece should be cropped seperately. "
   ]
  },
  {
   "cell_type": "code",
   "execution_count": 2,
   "metadata": {},
   "outputs": [],
   "source": [
    "# Name of the folder where original images are stored\n",
    "pathoriginal='images_to_cut'\n",
    "\n",
    "# Name of the folder where cropped images will be stored\n",
    "pathcrop='pieces'\n",
    "\n",
    "if not os.path.exists(pathcrop):\n",
    "    os.makedirs(pathcrop)\n",
    "\n",
    "# Define the extension of the original images\n",
    "images_extension='JPG'"
   ]
  },
  {
   "cell_type": "markdown",
   "metadata": {},
   "source": [
    "Define the index of the piece for which the images are about to be cropped. Use help of this table: \n",
    "\n",
    "| INDEX | PIECE NAME | CLASS NAME |\n",
    "| :-: | :-: | :-: |\n",
    "| 0 | bishop black | b |\n",
    "| 1 | bishop white | B |\n",
    "| 2 | king black | k |\n",
    "| 3 | king white | K |\n",
    "| 4 | knight black | n |\n",
    "| 5 | knight white | N |\n",
    "| 6 | pawn black | p |\n",
    "| 7 | pawn white | P |\n",
    "| 8 | queen black | q |\n",
    "| 9 | queen white | Q |\n",
    "| 10 | rook black | r |\n",
    "| 11 | rook white | R |"
   ]
  },
  {
   "cell_type": "code",
   "execution_count": 3,
   "metadata": {},
   "outputs": [],
   "source": [
    "pices = [\n",
    "'bishop_black',\n",
    "'bishop_white',\n",
    "'king_black',\n",
    "'king_white',\n",
    "'knight_black',\n",
    "'knight_white',\n",
    "'pawn_black',\n",
    "'pawn_white',\n",
    "'queen_black',\n",
    "'queen_white',\n",
    "'rook_black',\n",
    "'rook_white']\n",
    "\n",
    "# Select the piece index for current cropping\n",
    "piece_index = 0\n",
    "\n",
    "piece_name_folder = os.path.join(pathcrop, pices[piece_index])\n",
    "\n",
    "if not os.path.exists(piece_name_folder):\n",
    "    os.makedirs(piece_name_folder)"
   ]
  },
  {
   "cell_type": "markdown",
   "metadata": {},
   "source": [
    "Start cropping. The parameter 'area' must be adjusted for each image joint."
   ]
  },
  {
   "cell_type": "code",
   "execution_count": 4,
   "metadata": {},
   "outputs": [
    {
     "name": "stderr",
     "output_type": "stream",
     "text": [
      "100%|████████████████████████████████████████████████████████████████████████████████████| 3/3 [00:02<00:00,  1.48it/s]\n"
     ]
    }
   ],
   "source": [
    "# Crop all images in 'pathoriginal' folder\n",
    "for filename in tqdm(glob.glob(os.path.join(pathoriginal,'*.'+images_extension))):\n",
    "    img = Image.open(filename)\n",
    "    area=(1750,500, 3150, 3456) # cut from: left, up, right, bottom\n",
    "    img=img.crop(area)\n",
    "    name=os.path.splitext(os.path.basename(filename))[0]\n",
    "    img.save(os.path.join(piece_name_folder, name + '.jpg'), exif=img.info[\"exif\"])  # keep exif data"
   ]
  },
  {
   "cell_type": "markdown",
   "metadata": {},
   "source": [
    "The images are now ready and can now be imported into a photogrammetry software."
   ]
  },
  {
   "cell_type": "code",
   "execution_count": null,
   "metadata": {},
   "outputs": [],
   "source": []
  }
 ],
 "metadata": {
  "kernelspec": {
   "display_name": "Python 3.7 (tensorflow)",
   "language": "python",
   "name": "tensorflow"
  },
  "language_info": {
   "codemirror_mode": {
    "name": "ipython",
    "version": 3
   },
   "file_extension": ".py",
   "mimetype": "text/x-python",
   "name": "python",
   "nbconvert_exporter": "python",
   "pygments_lexer": "ipython3",
   "version": "3.7.6"
  }
 },
 "nbformat": 4,
 "nbformat_minor": 4
}
